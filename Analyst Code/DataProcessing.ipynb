{
 "cells": [
  {
   "cell_type": "code",
   "execution_count": 3,
   "metadata": {},
   "outputs": [],
   "source": [
    "import os\n",
    "import pandas as pd # for loading csv file (export from excel) into Python\n",
    "import numpy as np\n",
    "\n",
    "import matplotlib.pyplot as plt # for plotting\n",
    "%matplotlib inline\n",
    "import seaborn as sns\n"
   ]
  },
  {
   "cell_type": "markdown",
   "metadata": {},
   "source": [
    "# Trasform CSV to Excel"
   ]
  },
  {
   "cell_type": "code",
   "execution_count": 3,
   "metadata": {},
   "outputs": [
    {
     "name": "stdout",
     "output_type": "stream",
     "text": [
      "Chuyển đổi từ CSV sang Excel thành công!\n"
     ]
    }
   ],
   "source": [
    "import pandas as pd\n",
    "\n",
    "# Đường dẫn đến file CSV của bạn\n",
    "csv_file_path = \"H:/DeveloperJobAnalyst/Dataset/SurveyResults/2022/survey_results_public_2022.csv\"  # Thay \"data.csv\" bằng đường dẫn đến file CSV của bạn\n",
    "excel_file_path = \"H:/DeveloperJobAnalyst/Dataset/SurveyResults/2022/survey_results_public_2022.xlsx\"  # Đường dẫn file Excel đầu ra\n",
    "\n",
    "# Đọc file CSV và chuyển thành DataFrame\n",
    "df = pd.read_csv(csv_file_path,encoding='ISO-8859-1')\n",
    "\n",
    "# Ghi DataFrame vào file Excel\n",
    "df.to_excel(excel_file_path, index=False)\n",
    "\n",
    "print(\"Chuyển đổi từ CSV sang Excel thành công!\")\n"
   ]
  }
 ],
 "metadata": {
  "kernelspec": {
   "display_name": "tf",
   "language": "python",
   "name": "python3"
  },
  "language_info": {
   "codemirror_mode": {
    "name": "ipython",
    "version": 3
   },
   "file_extension": ".py",
   "mimetype": "text/x-python",
   "name": "python",
   "nbconvert_exporter": "python",
   "pygments_lexer": "ipython3",
   "version": "3.9.18"
  }
 },
 "nbformat": 4,
 "nbformat_minor": 2
}
